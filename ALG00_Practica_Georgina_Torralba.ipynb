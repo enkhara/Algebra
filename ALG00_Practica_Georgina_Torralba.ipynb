{
 "cells": [
  {
   "cell_type": "markdown",
   "metadata": {},
   "source": [
    "# Práctica"
   ]
  },
  {
   "cell_type": "markdown",
   "metadata": {},
   "source": [
    "## 1. La conjetura de Collatz\n",
    "\n",
    "<img src=\"Images/comic_collatz.png\" style=\"width: 400px;\"/>\n",
    "\n",
    "Empiezas con un número entero natural cualquiera (1, 2, 3, 4, 5...).  \n",
    "Si el número es par, lo divides por 2  \n",
    "Si es impar, lo multiplicas por 3 y le sumas 1  \n",
    "\n",
    "Escribir un procedimiento en Python que implemente el mecanismo de la conjetura de Collatz para cualquier número entero positivo."
   ]
  },
  {
   "cell_type": "code",
   "execution_count": 25,
   "metadata": {},
   "outputs": [
    {
     "name": "stdout",
     "output_type": "stream",
     "text": [
      "Introducir valor entero positivo: 0\n",
      "Debe ser positivo, introducir valor positivo:0.2\n",
      "Debe ser un número entero\n",
      "Introducir valor entero positivo: -2\n",
      "Debe ser positivo, introducir valor positivo:6\n",
      "el resultado es 1: 6 , [3, 10, 5, 16, 8, 4, 2, 1]\n"
     ]
    }
   ],
   "source": [
    "def validacion (n):\n",
    "    validation= False\n",
    "    while validation == False:\n",
    "        try:\n",
    "            n= int(n)\n",
    "            if (n > 0):\n",
    "                return (n)\n",
    "            else:\n",
    "                n = input ('Debe ser positivo, introducir valor positivo:')\n",
    "        except:\n",
    "            print('Debe ser un número entero')\n",
    "            n= input('Introducir valor entero positivo: ')\n",
    "    \n",
    "def conjeturaCollatz(n):\n",
    "    #hacer control de errores -> numero positivo entero\n",
    "    resultado=[]\n",
    "    \n",
    "    while n!= 1:\n",
    "        \n",
    "        if(n % 2 == 0 ):\n",
    "            n =  n/2\n",
    "            \n",
    "            \n",
    "        else:\n",
    "            n = (n*3 + 1)\n",
    "            \n",
    "        resultado.append(int(n))\n",
    "        \n",
    "    return resultado\n",
    "\n",
    "n= input('Introducir valor entero positivo: ')\n",
    "n = validacion (n);\n",
    "resultado = conjeturaCollatz(n);\n",
    "print ('el resultado es 1:',n, ',', resultado)"
   ]
  },
  {
   "cell_type": "markdown",
   "metadata": {},
   "source": [
    "## 2. Suma y producto escalar combinados\n",
    "\n",
    "Usando los procedimientos add y mult_vector_escalar definidos en el notebook **ALG05_Vectores**, calcular:   \n",
    "{$\\alpha$[1,2]+[3,4] : $\\alpha$$\\in$$\\mathbb{R}$, 0$\\leq$$\\alpha$$\\leq$1, con una precision de dos decimales (para la multiplicación)}"
   ]
  },
  {
   "cell_type": "code",
   "execution_count": null,
   "metadata": {},
   "outputs": [],
   "source": [
    "def addn(v,w):\n",
    "    return[v[i]+w[i] for i in range(len(v))]\n",
    "\n",
    "def mult_vector_escalar(alpha,v):\n",
    "    return [alpha*v[i] for i in range(len(v))]"
   ]
  },
  {
   "cell_type": "code",
   "execution_count": null,
   "metadata": {},
   "outputs": [],
   "source": []
  },
  {
   "cell_type": "markdown",
   "metadata": {},
   "source": [
    "## 3. El secreto perfecto\n",
    "\n",
    "Representa la encriptación de la adicción de un n-vector a un n-vector de GF(2)  \n",
    "\n",
    "<img src=\"Images/mortadelo-filemon.jpg\" style=\"width: 300px;\"/>\n",
    "\n",
    "Mortadelo y Filemón usan como clave el siguiente vector:  \n",
    "**k**=[0,1,0,0,1,0,1,0,1,0] \n",
    "\n",
    "Mortadelo quiere enviarle a Filemón el siguiente mensaje:  \n",
    "**p**=[0,0,0,1,1,1,0,1,0,1] \n",
    "\n",
    "Mortadelo encripta su mensaje añadiendo k: \n",
    "**c**=**p**+**k**=[0,0,0,1,1,1,0,1,0,1]+[0,1,0,0,1,0,1,0,1,0]=[0,1,0,1,0,1,1,1,1,1] \n",
    "\n",
    "Cuando Filemón recibe el mensaje, lo desencripta añadiendo **k** a lo que ha recibido \n",
    "**p**=**c**+**k**=[0,1,0,1,0,1,1,1,1,1]+[0,1,0,0,1,0,1,0,1,0]=[0,0,0,1,1,1,0,1,0,1]    \n",
    "\n",
    "que es el mensaje original.\n",
    "\n",
    "La idea es crear un procedimiento para que Filemón:\n",
    "* No tenga que hacer este proceso manualmente cada vez que Mortadelo le envíe un mensaje encriptado para descifrarlo\n",
    "* Si deciden cambiar la clave, que el procedimiento cambie mínimamente\n",
    "\n",
    "  \n"
   ]
  },
  {
   "cell_type": "code",
   "execution_count": 36,
   "metadata": {},
   "outputs": [
    {
     "name": "stdout",
     "output_type": "stream",
     "text": [
      "[0, 1, 0, 1, 0, 1, 1, 1, 1, 1]\n",
      "[0, 0, 0, 1, 1, 1, 0, 1, 0, 1]\n",
      "ok\n"
     ]
    }
   ],
   "source": [
    "k = [0,1,0,0,1,0,1,0,1,0]\n",
    "p = [0,0,0,1,1,1,0,1,0,1]\n",
    "\n",
    "\n",
    "def encriptacion(k,p):\n",
    "    return[(k[i]+p[i])%2 for i in range(len(k))]\n",
    "\n",
    "def desencriptacion(c,k):\n",
    "    return[(c[i]+k[i])%2 for i in range(len(c))]\n",
    "c =  encriptacion(k,p)\n",
    "print(c)\n",
    "pr= desencriptacion(c,k)\n",
    "print(pr)\n",
    "if p == pr:\n",
    "    print ('ok')"
   ]
  },
  {
   "cell_type": "markdown",
   "metadata": {},
   "source": [
    "## 4. ¿Cuánto cuesta hacer una cerveza?\n",
    "\n",
    "<img src=\"Images/cerveza.jpg\" style=\"width: 300px;\"/>\n",
    "\n",
    "Supongamos que D es el conjunto de algunos ingredientes de la cerveza: \n",
    "> D={lúpulo, malta, agua, levadura} \n",
    "\n",
    "Por otro lado tenemos el vector coste:\n",
    "> coste={lúpulo: 2,5€, malta: 1.5€, agua: 0.006€, levadura: 0,45€}  \n",
    "\n",
    "Por último tenemos el vector cantidad con lo necesario para hacer una cerveza:\n",
    "> cantidad={lúpulo: 6u, malta: 14u, agua: 7u, levadura: 11u} \n",
    "\n",
    "¿Cuánto cuesta hacer una cerveza?"
   ]
  },
  {
   "cell_type": "code",
   "execution_count": 58,
   "metadata": {},
   "outputs": [
    {
     "ename": "TypeError",
     "evalue": "'bool' object is not iterable",
     "output_type": "error",
     "traceback": [
      "\u001b[1;31m---------------------------------------------------------------------------\u001b[0m",
      "\u001b[1;31mTypeError\u001b[0m                                 Traceback (most recent call last)",
      "\u001b[1;32m<ipython-input-58-89d8e032d985>\u001b[0m in \u001b[0;36m<module>\u001b[1;34m\u001b[0m\n\u001b[0;32m      4\u001b[0m \u001b[0mcoste\u001b[0m\u001b[1;33m=\u001b[0m\u001b[1;33m{\u001b[0m\u001b[1;34m'lúpulo'\u001b[0m\u001b[1;33m:\u001b[0m \u001b[1;36m2.5\u001b[0m\u001b[1;33m,\u001b[0m \u001b[1;34m'malta'\u001b[0m\u001b[1;33m:\u001b[0m \u001b[1;36m1.5\u001b[0m\u001b[1;33m,\u001b[0m \u001b[1;34m'agua'\u001b[0m\u001b[1;33m:\u001b[0m \u001b[1;36m0.006\u001b[0m\u001b[1;33m,\u001b[0m \u001b[1;34m'levadura'\u001b[0m\u001b[1;33m:\u001b[0m \u001b[1;36m0.45\u001b[0m\u001b[1;33m}\u001b[0m\u001b[1;33m\u001b[0m\u001b[1;33m\u001b[0m\u001b[0m\n\u001b[0;32m      5\u001b[0m \u001b[0mcantidad\u001b[0m\u001b[1;33m=\u001b[0m\u001b[1;33m{\u001b[0m\u001b[1;34m'lúpulo'\u001b[0m\u001b[1;33m:\u001b[0m \u001b[1;36m6\u001b[0m\u001b[1;33m,\u001b[0m \u001b[1;34m'malta'\u001b[0m\u001b[1;33m:\u001b[0m \u001b[1;36m14\u001b[0m\u001b[1;33m,\u001b[0m \u001b[1;34m'agua'\u001b[0m\u001b[1;33m:\u001b[0m \u001b[1;36m7\u001b[0m\u001b[1;33m,\u001b[0m \u001b[1;34m'levadura'\u001b[0m\u001b[1;33m:\u001b[0m \u001b[1;36m11\u001b[0m\u001b[1;33m}\u001b[0m\u001b[1;33m\u001b[0m\u001b[1;33m\u001b[0m\u001b[0m\n\u001b[1;32m----> 6\u001b[1;33m \u001b[1;32mfor\u001b[0m \u001b[0melement\u001b[0m \u001b[1;32min\u001b[0m \u001b[0mcoste\u001b[0m \u001b[1;32mand\u001b[0m \u001b[0melement\u001b[0m \u001b[1;32min\u001b[0m \u001b[0mcantidad\u001b[0m\u001b[1;33m:\u001b[0m\u001b[1;33m\u001b[0m\u001b[1;33m\u001b[0m\u001b[0m\n\u001b[0m\u001b[0;32m      7\u001b[0m     \u001b[0mprint\u001b[0m\u001b[1;33m(\u001b[0m\u001b[0melement\u001b[0m\u001b[1;33m)\u001b[0m\u001b[1;33m\u001b[0m\u001b[1;33m\u001b[0m\u001b[0m\n\u001b[0;32m      8\u001b[0m \u001b[1;31m#print(D[1])\u001b[0m\u001b[1;33m\u001b[0m\u001b[1;33m\u001b[0m\u001b[1;33m\u001b[0m\u001b[0m\n",
      "\u001b[1;31mTypeError\u001b[0m: 'bool' object is not iterable"
     ]
    }
   ],
   "source": [
    "import math\n",
    "\n",
    "D={'lúpulo', 'malta', 'agua', 'levadura'}\n",
    "coste={'lúpulo': 2.5, 'malta': 1.5, 'agua': 0.006, 'levadura': 0.45}\n",
    "cantidad={'lúpulo': 6, 'malta': 14, 'agua': 7, 'levadura': 11}\n",
    "for element in coste and element in cantidad:\n",
    "    print(element)\n",
    "#print(D[1])\n",
    "print(coste)\n",
    "print(cantidad)\n",
    "#print(cantidad(1))\n",
    "#def costeCerveza (coste, cantidad):\n",
    "    \n",
    "    #return sum(coste[i][i]*cantidad[i][i] for i in range(len(coste)))\n",
    "\n",
    "#resultado = costeCerveza(coste, cantidad)"
   ]
  },
  {
   "cell_type": "markdown",
   "metadata": {},
   "source": [
    "## 5. La carrera de caballos\n",
    "\n",
    "Tres caballos A, B y C compiten en una carrera.  \n",
    "Las apuestas para dar como vencedor a cada uno de ellos son de 4 a 1 para A, 3 a 1 para B y 2 a 1 para C, tomando las unidades siempre en euros.  \n",
    "¿Cuánto debo apostar por cada caballo para asegurarme recibir 13 euros en toal, sin importar qué csaballo gane la carrera?"
   ]
  },
  {
   "cell_type": "markdown",
   "metadata": {},
   "source": [
    "Sean x,y,z el dinero apostado por los caballos A, B y C respectivamente.\n",
    "El objetivo del problema escalcular la cantidad que debe apostarse por cada caballo de forma que la suma del dinero recibido y perdido en ñas apuestas sea siempre igual a 13€.  \n",
    "Así, podemos plantear un sistema de tres ecuaciones con tres incógnitas, en el que igualaremos matemáticamente la cantidad percibida por la victoria de los caballos A, B, C y, al mismo tiempo, señalaremos que esta cantidad corresponde a 13€.  \n",
    "\n",
    "> 4x-y-z=3y-x-z  \n",
    "> 3y-x-z=2z-x-y  \n",
    "> 2z-x-y=13\n"
   ]
  },
  {
   "cell_type": "code",
   "execution_count": null,
   "metadata": {},
   "outputs": [],
   "source": []
  },
  {
   "cell_type": "markdown",
   "metadata": {},
   "source": [
    "## 6. Dimensión de matrices\n",
    "\n",
    "Sea la matriz $\n",
    "  M=\n",
    "  \\left[ {\\begin{array}{cc}\n",
    "   1 & 0  & 0 & 5 \\\\\n",
    "   0 & 2  & 0 & 7 \\\\\n",
    "   0 & 0  & 3 & 9 \\\\\n",
    "  \\end{array} } \\right]\n",
    "$. Calcular el rango por filas y por columnas usando Python."
   ]
  },
  {
   "cell_type": "code",
   "execution_count": null,
   "metadata": {},
   "outputs": [],
   "source": []
  },
  {
   "cell_type": "code",
   "execution_count": null,
   "metadata": {},
   "outputs": [],
   "source": []
  },
  {
   "cell_type": "markdown",
   "metadata": {},
   "source": [
    "## 7. Bosque de extensión mínima\n",
    "\n",
    "<img src=\"Images/bosque.png\" style=\"width: 800px;\"/>\n",
    "\n",
    "En clase hemos hecho el caso del grafo de la derecha. Le toca el turno al de la izquierda.\n",
    "Supongamos que queremos diseñar la red de internet para el otro campus universitario.  \n",
    "La red debe lograr la misma conectividad que el grafo de entrada.  \n",
    "Una arista representa un posible cable.  \n",
    "El peso de la arista es el coste de instalar el cable.  \n",
    "Nuestro objetivo es minimizar el coste total, usando el algoritmo Grow y el algoritmo Shrink.\n",
    "Lo único que en este caso se pide crear un procedimiento para el algoritmo Grow y otro para el Shrink que lo hagan automáticamente una vez les metamos como parámetros las aristas y sus pesos"
   ]
  },
  {
   "cell_type": "code",
   "execution_count": null,
   "metadata": {},
   "outputs": [],
   "source": []
  },
  {
   "cell_type": "code",
   "execution_count": null,
   "metadata": {},
   "outputs": [],
   "source": []
  },
  {
   "cell_type": "code",
   "execution_count": null,
   "metadata": {},
   "outputs": [],
   "source": []
  },
  {
   "cell_type": "markdown",
   "metadata": {},
   "source": [
    "## 8. El dígito móvil\n",
    "\n",
    "<img src=\"Images/imagenx2.png\" style=\"width: 500px;\"/>\n",
    "\n",
    "Hallar un número tal que, multiplicado por 3 y dividido entre 2, dé el mismo resultado que si moviéramos el primer dígito del número, el 3, desde el principio hasta el final de la fila de dígitos\n",
    "\n",
    "PISTA: Los únicos números que, al ser multiplicados por determinadas cifras, producen otros números cuyos dígitos siguen la misma secuencia que el número original aunque comenzando por otro de sus dígitos, son los períodos de los números decimales periódicos. Estos números se dicen **cíclicos**.  \n",
    "Nosotros queremos buscar un número de este tipo\n",
    "\n",
    "PISTA: No hay que resolverlo con Python"
   ]
  },
  {
   "cell_type": "markdown",
   "metadata": {},
   "source": []
  },
  {
   "cell_type": "markdown",
   "metadata": {},
   "source": [
    "## 9. Agujas superpuestas\n",
    "\n",
    "<img src=\"Images/reloj-movimiento--478x578.jpg\" style=\"width: 250px;\"/>\n",
    "\n",
    "El horario y el minutero de un reloj se juntan exactamente cada 65 minutos.  \n",
    "Calcular si el reloj se adelanta o se atrasa, y cuánto por hora.  \n",
    "\n",
    "PISTA: Suponer que las agujas del reloj empiezan en las 12 en punto.\n",
    "\n",
    "PISTA: No hace falta resolverlo con Python"
   ]
  },
  {
   "cell_type": "markdown",
   "metadata": {},
   "source": []
  },
  {
   "cell_type": "markdown",
   "metadata": {},
   "source": [
    "## 10. Cuadrados perfectos\n",
    "\n",
    "<img src=\"Images/cuadrados-perfectos.jpg\" style=\"width: 500px;\"/>\n",
    "\n",
    "Averiguar el número entero positivo que, sumado tanto a 100 como a 164, propociona sendos cuadrados perfectos.\n",
    "\n",
    "PISTA: No hace falta resolverlo con Python"
   ]
  },
  {
   "cell_type": "code",
   "execution_count": 24,
   "metadata": {},
   "outputs": [
    {
     "name": "stdout",
     "output_type": "stream",
     "text": [
      "El valor que hay que sumarle a  100 y a  164 es 125\n"
     ]
    }
   ],
   "source": [
    "import math\n",
    "i=0\n",
    "a= 100\n",
    "b= 164\n",
    "def cuadradoPerfecto(n):\n",
    "    n= str(n)\n",
    "    for i in range(0, len(n)):\n",
    "        if n[i] == '.':\n",
    "            if n[i+1] == '0' and len(n) == (i+2):\n",
    "                return True\n",
    "            else:\n",
    "                return False\n",
    "        \n",
    "findIt= False            \n",
    "\n",
    "while findIt == False:\n",
    "    i+=1\n",
    "    raizA=math.sqrt(a+i)\n",
    "    raizB = math.sqrt(b+i)\n",
    "    resultA = cuadradoPerfecto(raizA)\n",
    "    resultB = cuadradoPerfecto(raizB)\n",
    "    if resultA and resultB:\n",
    "        print(\"El valor que hay que sumarle a \", a, \"y a \", b, \"es\", i)\n",
    "        findIt = True\n"
   ]
  },
  {
   "cell_type": "code",
   "execution_count": 28,
   "metadata": {},
   "outputs": [
    {
     "name": "stdout",
     "output_type": "stream",
     "text": [
      "21\n",
      "21\n",
      "21\n",
      "21\n",
      "21\n",
      "21\n",
      "21\n",
      "21\n",
      "21\n",
      "21\n",
      "21\n",
      "21\n",
      "21\n",
      "44\n",
      "44\n",
      "44\n",
      "44\n",
      "44\n",
      "44\n",
      "44\n",
      "44\n",
      "44\n",
      "44\n",
      "44\n",
      "44\n",
      "44\n",
      "69\n",
      "69\n",
      "69\n",
      "69\n",
      "69\n",
      "69\n",
      "69\n",
      "69\n",
      "69\n",
      "69\n",
      "69\n",
      "69\n",
      "69\n",
      "96\n",
      "96\n",
      "96\n",
      "96\n",
      "96\n",
      "96\n",
      "96\n",
      "96\n",
      "96\n",
      "96\n",
      "96\n",
      "96\n",
      "96\n",
      "125\n",
      "125\n",
      "125\n",
      "125\n",
      "125\n",
      "125\n",
      "125\n",
      "125\n",
      "125\n",
      "125\n",
      "125\n",
      "125\n",
      "125\n",
      "156\n",
      "156\n",
      "156\n",
      "156\n",
      "156\n",
      "156\n",
      "156\n",
      "156\n",
      "156\n",
      "156\n",
      "156\n",
      "156\n",
      "156\n",
      "189\n",
      "189\n",
      "189\n",
      "189\n",
      "189\n",
      "189\n",
      "189\n",
      "189\n",
      "189\n",
      "189\n",
      "189\n",
      "189\n",
      "189\n",
      "224\n",
      "224\n",
      "224\n",
      "224\n",
      "224\n",
      "224\n",
      "224\n",
      "224\n",
      "224\n",
      "224\n",
      "224\n",
      "224\n",
      "224\n",
      "261\n",
      "261\n",
      "261\n",
      "261\n",
      "261\n",
      "261\n",
      "261\n",
      "261\n",
      "261\n",
      "261\n",
      "261\n",
      "261\n",
      "261\n",
      "300\n",
      "300\n",
      "300\n",
      "300\n",
      "300\n",
      "300\n",
      "300\n",
      "300\n",
      "300\n",
      "300\n",
      "300\n",
      "300\n",
      "300\n",
      "341\n",
      "341\n",
      "341\n",
      "341\n",
      "341\n",
      "341\n",
      "341\n",
      "341\n",
      "341\n",
      "341\n",
      "341\n",
      "341\n",
      "341\n",
      "384\n",
      "384\n",
      "384\n",
      "384\n",
      "384\n",
      "384\n",
      "384\n",
      "384\n",
      "384\n",
      "384\n",
      "384\n",
      "384\n",
      "384\n",
      "429\n",
      "429\n",
      "429\n",
      "429\n",
      "429\n",
      "429\n",
      "429\n",
      "429\n",
      "429\n",
      "429\n",
      "429\n",
      "429\n",
      "429\n",
      "476\n",
      "476\n",
      "476\n",
      "476\n",
      "476\n",
      "476\n",
      "476\n",
      "476\n",
      "476\n",
      "476\n",
      "476\n",
      "476\n",
      "476\n"
     ]
    }
   ],
   "source": []
  },
  {
   "cell_type": "markdown",
   "metadata": {},
   "source": [
    "## 11. Días de vacaciones\n",
    "\n",
    "<img src=\"Images/vacaciones.jpg\" style=\"width: 500px;\"/>\n",
    "\n",
    "Durante mis vacaciones llovió 9 días, y hubo 10 mañanas y 9 tardes soleadas. Cuando llovió por la mañana, la tarde fue soleada.\n",
    "¿Cuántos días duraron mis vacaciones?"
   ]
  },
  {
   "cell_type": "markdown",
   "metadata": {},
   "source": []
  },
  {
   "cell_type": "markdown",
   "metadata": {},
   "source": []
  }
 ],
 "metadata": {
  "kernelspec": {
   "display_name": "Python 3",
   "language": "python",
   "name": "python3"
  },
  "language_info": {
   "codemirror_mode": {
    "name": "ipython",
    "version": 3
   },
   "file_extension": ".py",
   "mimetype": "text/x-python",
   "name": "python",
   "nbconvert_exporter": "python",
   "pygments_lexer": "ipython3",
   "version": "3.7.4"
  }
 },
 "nbformat": 4,
 "nbformat_minor": 2
}
